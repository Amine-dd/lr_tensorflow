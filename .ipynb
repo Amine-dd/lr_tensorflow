{
 "cells": [
  {
   "cell_type": "code",
   "execution_count": 7,
   "metadata": {},
   "outputs": [],
   "source": [
    "import tensorflow.compat.v1 as tf\n",
    "tf.disable_eager_execution()\n",
    "#defining a linear regression model\n",
    "with tf.name_scope(\"placeholders\"):\n",
    "    x = tf.placeholder(tf.float32,(100,1))\n",
    "    y = tf.placeholder(tf.float32,(100,))\n",
    "with tf.name_scope('weights'):\n",
    "    W = tf.Variable(tf.random_normal((1,1)))\n",
    "    b = tf.Variable(tf.random_normal((1,)))\n",
    "        \n",
    "with tf.name_scope(\"prediction\"):\n",
    "    y_pred = tf.matmul(x,W) + b\n",
    "with tf.name_scope('loss'):\n",
    "    l = tf.reduce_sum((y-y_pred)**2)\n",
    "#add training op\n",
    "with tf.name_scope('optim'):\n",
    "    train_op = tf.train.AdamOptimizer(.001).minimize(l)\n",
    "with tf.name_scope('summaries'):\n",
    "    tf.summary.scalar('loss',l)\n",
    "    merged = tf.summary.merge_all()\n",
    "\n",
    "train_writer = tf.summary.FileWriter('/tmp/.lr-train',tf.get_default_graph())\n",
    "    "
   ]
  },
  {
   "cell_type": "code",
   "execution_count": null,
   "metadata": {},
   "outputs": [],
   "source": [
    " #Generating synthetic data\n",
    "import numpy as np\n",
    "N = 100\n",
    "w_true = 5\n",
    "b_true = 2\n",
    "noise_scale = .1\n",
    "x_np =np.random.rand(N,1)\n",
    "noise  = np.random.normal(scale = noise_scale ,size=(N,1))\n",
    "y_np = np.reshape(w_true * x_np + b_true + noise ,(-1))\n",
    "#training the linear regression\n",
    "n_steps = 1000\n",
    "with tf.Session() as sess:\n",
    "    sess.run(tf.global_variables_initializer())\n",
    "    #train model\n",
    "    for i in range(n_steps):\n",
    "        feed_dict = {x:x_np,y:y_np}\n",
    "        _,summary,loss = sess.run([train_op,merged,l],feed_dict = feed_dict)\n",
    "        print('step %d, loss %f' %(i,loss))\n",
    "        train_writer.add_summary(summary,i)"
   ]
  },
  {
   "cell_type": "code",
   "execution_count": null,
   "metadata": {},
   "outputs": [],
   "source": []
  }
 ],
 "metadata": {
  "kernelspec": {
   "display_name": "Python 3",
   "language": "python",
   "name": "python3"
  },
  "language_info": {
   "codemirror_mode": {
    "name": "ipython",
    "version": 3
   },
   "file_extension": ".py",
   "mimetype": "text/x-python",
   "name": "python",
   "nbconvert_exporter": "python",
   "pygments_lexer": "ipython3",
   "version": "3.7.5"
  }
 },
 "nbformat": 4,
 "nbformat_minor": 2
}
